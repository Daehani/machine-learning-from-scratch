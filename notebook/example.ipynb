{
 "cells": [
  {
   "cell_type": "code",
   "execution_count": 46,
   "metadata": {},
   "outputs": [
    {
     "output_type": "stream",
     "name": "stdout",
     "text": "The autoreload extension is already loaded. To reload it, use:\n  %reload_ext autoreload\n"
    }
   ],
   "source": [
    "%load_ext autoreload\n",
    "%autoreload 2\n",
    "\n",
    "import sys\n",
    "sys.path.append(\"../src\")\n",
    "\n",
    "import numpy as np\n",
    "from make_data import generate_data\n",
    "from logistic_regression import LogisticRegression\n",
    "from ftrl import FtrlProximal\n",
    "from evaluation import eval_accuracy\n",
    "\n",
    "# Common\n",
    "EPOCH_SIZE = 100\n",
    "\n",
    "# Logistic Regression\n",
    "LEARNING_RATE = 0.1\n",
    "\n",
    "# Ftrl\n",
    "ALPHA = 0.005\n",
    "BETA = 1.\n",
    "L1 = 0.\n",
    "L2 = 1."
   ]
  },
  {
   "cell_type": "markdown",
   "metadata": {},
   "source": [
    "# Data"
   ],
   "execution_count": null,
   "outputs": []
  },
  {
   "cell_type": "code",
   "execution_count": 7,
   "metadata": {},
   "outputs": [],
   "source": [
    "TRAIN_X_PATH=\"../data/X_train.csv\"\n",
    "TRAIN_Y_PATH=\"../data/y_train.csv\"\n",
    "TEST_X_PATH=\"../data/X_test.csv\"\n",
    "TEST_Y_PATH=\"../data/y_test.csv\""
   ]
  },
  {
   "cell_type": "code",
   "execution_count": 8,
   "metadata": {},
   "outputs": [],
   "source": [
    "generate_data(TRAIN_X_PATH, TRAIN_Y_PATH, TEST_X_PATH, TEST_Y_PATH)"
   ]
  },
  {
   "cell_type": "code",
   "execution_count": 9,
   "metadata": {},
   "outputs": [],
   "source": [
    "X_train = np.loadtxt(TRAIN_X_PATH, delimiter=\",\")\n",
    "y_train = np.loadtxt(TRAIN_Y_PATH, delimiter=\",\")\n",
    "X_test = np.loadtxt(TEST_X_PATH, delimiter=\",\")\n",
    "y_test = np.loadtxt(TEST_Y_PATH, delimiter=\",\")"
   ]
  },
  {
   "cell_type": "markdown",
   "metadata": {},
   "source": [
    "## Test"
   ],
   "execution_count": null,
   "outputs": []
  },
  {
   "cell_type": "code",
   "execution_count": 10,
   "metadata": {},
   "outputs": [
    {
     "output_type": "execute_result",
     "data": {
      "text/plain": "((100, 3), (100,))"
     },
     "metadata": {},
     "execution_count": 10
    }
   ],
   "source": [
    "X_train.shape, y_train.shape"
   ]
  },
  {
   "cell_type": "code",
   "execution_count": 11,
   "metadata": {},
   "outputs": [
    {
     "output_type": "execute_result",
     "data": {
      "text/plain": "((50, 3), (50,))"
     },
     "metadata": {},
     "execution_count": 11
    }
   ],
   "source": [
    "X_test.shape, y_test.shape"
   ]
  },
  {
   "cell_type": "markdown",
   "metadata": {},
   "source": [
    "# Modeling"
   ],
   "execution_count": null,
   "outputs": []
  },
  {
   "cell_type": "markdown",
   "metadata": {},
   "source": [
    "## Logistic Regression"
   ],
   "execution_count": null,
   "outputs": []
  },
  {
   "cell_type": "code",
   "execution_count": 12,
   "metadata": {},
   "outputs": [],
   "source": [
    "model_logit = LogisticRegression(lr=LEARNING_RATE, epoch=EPOCH_SIZE)\n",
    "model_logit.fit(X_train, y_train)"
   ]
  },
  {
   "cell_type": "code",
   "execution_count": 13,
   "metadata": {},
   "outputs": [
    {
     "output_type": "execute_result",
     "data": {
      "text/plain": "array([ 0.17620337,  0.24883926,  0.94089415, -1.64400328])"
     },
     "metadata": {},
     "execution_count": 13
    }
   ],
   "source": [
    "model_logit.theta"
   ]
  },
  {
   "cell_type": "markdown",
   "metadata": {},
   "source": [
    "## FTRL"
   ],
   "execution_count": null,
   "outputs": []
  },
  {
   "cell_type": "code",
   "execution_count": 29,
   "metadata": {
    "tags": [
     "outputPrepend",
     "outputPrepend"
    ]
   },
   "outputs": [
    {
     "output_type": "stream",
     "name": "stdout",
     "text": "2020-04-05 23:48:40.763518\tepoch: 0\tcount: 100\tlogloss: 0.004860795812874137\n2020-04-05 23:48:40.769939\tepoch: 1\tcount: 100\tlogloss: 0.003897305647395401\n2020-04-05 23:48:40.774167\tepoch: 2\tcount: 100\tlogloss: 0.0032016139754847462\n2020-04-05 23:48:40.777975\tepoch: 3\tcount: 100\tlogloss: 0.0026705581604224244\n2020-04-05 23:48:40.780526\tepoch: 4\tcount: 100\tlogloss: 0.0022538840031804132\n2020-04-05 23:48:40.783177\tepoch: 5\tcount: 100\tlogloss: 0.0019208278278785163\n2020-04-05 23:48:40.789379\tepoch: 6\tcount: 100\tlogloss: 0.0016507257787798859\n2020-04-05 23:48:40.792266\tepoch: 7\tcount: 100\tlogloss: 0.0014290147808408325\n2020-04-05 23:48:40.794706\tepoch: 8\tcount: 100\tlogloss: 0.0012451157861349273\n2020-04-05 23:48:40.796940\tepoch: 9\tcount: 100\tlogloss: 0.0010911724815570135\n2020-04-05 23:48:40.799074\tepoch: 10\tcount: 100\tlogloss: 0.0009612467380742129\n2020-04-05 23:48:40.802343\tepoch: 11\tcount: 100\tlogloss: 0.0008507828597890443\n2020-04-05 23:48:40.804827\tepoch: 12\tcount: 100\tlogloss: 0.0007562399417089571\n2020-04-05 23:48:40.807008\tepoch: 13\tcount: 100\tlogloss: 0.0006748337242559985\n2020-04-05 23:48:40.809320\tepoch: 14\tcount: 100\tlogloss: 0.0006043518986740505\n2020-04-05 23:48:40.811392\tepoch: 15\tcount: 100\tlogloss: 0.0005430198270003445\n2020-04-05 23:48:40.813636\tepoch: 16\tcount: 100\tlogloss: 0.000489401526342317\n2020-04-05 23:48:40.816030\tepoch: 17\tcount: 100\tlogloss: 0.00044232572462098526\n2020-04-05 23:48:40.820201\tepoch: 18\tcount: 100\tlogloss: 0.00040082999919250213\n2020-04-05 23:48:40.822876\tepoch: 19\tcount: 100\tlogloss: 0.00036411812771741935\n2020-04-05 23:48:40.825199\tepoch: 20\tcount: 100\tlogloss: 0.00033152720716174964\n2020-04-05 23:48:40.827733\tepoch: 21\tcount: 100\tlogloss: 0.00030250207344102394\n2020-04-05 23:48:40.829778\tepoch: 22\tcount: 100\tlogloss: 0.0002765752326291029\n2020-04-05 23:48:40.831718\tepoch: 23\tcount: 100\tlogloss: 0.00025335099214798937\n2020-04-05 23:48:40.834514\tepoch: 24\tcount: 100\tlogloss: 0.00023249282051055403\n2020-04-05 23:48:40.837066\tepoch: 25\tcount: 100\tlogloss: 0.00021371320922081987\n2020-04-05 23:48:40.839277\tepoch: 26\tcount: 100\tlogloss: 0.00019676548878503266\n2020-04-05 23:48:40.841466\tepoch: 27\tcount: 100\tlogloss: 0.00018143718186208944\n2020-04-05 23:48:40.843570\tepoch: 28\tcount: 100\tlogloss: 0.00016754457379337804\n2020-04-05 23:48:40.845952\tepoch: 29\tcount: 100\tlogloss: 0.0001549282534673704\n2020-04-05 23:48:40.848080\tepoch: 30\tcount: 100\tlogloss: 0.0001434494323066264\n2020-04-05 23:48:40.851685\tepoch: 31\tcount: 100\tlogloss: 0.0001329868908283175\n2020-04-05 23:48:40.854302\tepoch: 32\tcount: 100\tlogloss: 0.00012343443411599032\n2020-04-05 23:48:40.856949\tepoch: 33\tcount: 100\tlogloss: 0.0001146987621118136\n2020-04-05 23:48:40.859128\tepoch: 34\tcount: 100\tlogloss: 0.0001066976796966769\n2020-04-05 23:48:40.861220\tepoch: 35\tcount: 100\tlogloss: 9.935858639874561e-05\n2020-04-05 23:48:40.863614\tepoch: 36\tcount: 100\tlogloss: 9.261719724713461e-05\n2020-04-05 23:48:40.865962\tepoch: 37\tcount: 100\tlogloss: 8.641645550481051e-05\n2020-04-05 23:48:40.869450\tepoch: 38\tcount: 100\tlogloss: 8.070560533051456e-05\n2020-04-05 23:48:40.871853\tepoch: 39\tcount: 100\tlogloss: 7.543939825558943e-05\n2020-04-05 23:48:40.873934\tepoch: 40\tcount: 100\tlogloss: 7.057741203999019e-05\n2020-04-05 23:48:40.875913\tepoch: 41\tcount: 100\tlogloss: 6.608346423987961e-05\n2020-04-05 23:48:40.877844\tepoch: 42\tcount: 100\tlogloss: 6.192510586758521e-05\n2020-04-05 23:48:40.879759\tepoch: 43\tcount: 100\tlogloss: 5.807318300156829e-05\n2020-04-05 23:48:40.881730\tepoch: 44\tcount: 100\tlogloss: 5.450145622483344e-05\n2020-04-05 23:48:40.884223\tepoch: 45\tcount: 100\tlogloss: 5.118626942527169e-05\n2020-04-05 23:48:40.887001\tepoch: 46\tcount: 100\tlogloss: 4.8106260852411926e-05\n2020-04-05 23:48:40.889111\tepoch: 47\tcount: 100\tlogloss: 4.524211044798017e-05\n2020-04-05 23:48:40.891463\tepoch: 48\tcount: 100\tlogloss: 4.257631839765989e-05\n2020-04-05 23:48:40.893947\tepoch: 49\tcount: 100\tlogloss: 4.00930106242017e-05\n2020-04-05 23:48:40.897791\tepoch: 50\tcount: 100\tlogloss: 3.777776758616555e-05\n2020-04-05 23:48:40.902438\tepoch: 51\tcount: 100\tlogloss: 3.561747328530527e-05\n2020-04-05 23:48:40.904934\tepoch: 52\tcount: 100\tlogloss: 3.360018183742784e-05\n2020-04-05 23:48:40.907145\tepoch: 53\tcount: 100\tlogloss: 3.171499934173229e-05\n2020-04-05 23:48:40.909270\tepoch: 54\tcount: 100\tlogloss: 2.9951979104232262e-05\n2020-04-05 23:48:40.911387\tepoch: 55\tcount: 100\tlogloss: 2.8302028542242823e-05\n2020-04-05 23:48:40.914563\tepoch: 56\tcount: 100\tlogloss: 2.675682632691083e-05\n2020-04-05 23:48:40.918464\tepoch: 57\tcount: 100\tlogloss: 2.5308748516493527e-05\n2020-04-05 23:48:40.921861\tepoch: 58\tcount: 100\tlogloss: 2.395080259983296e-05\n2020-04-05 23:48:40.924547\tepoch: 59\tcount: 100\tlogloss: 2.267656851198575e-05\n2020-04-05 23:48:40.926710\tepoch: 60\tcount: 100\tlogloss: 2.1480145806096344e-05\n2020-04-05 23:48:40.928989\tepoch: 61\tcount: 100\tlogloss: 2.0356106270250015e-05\n2020-04-05 23:48:40.931691\tepoch: 62\tcount: 100\tlogloss: 1.929945136832481e-05\n2020-04-05 23:48:40.938623\tepoch: 63\tcount: 100\tlogloss: 1.830557396144322e-05\n2020-04-05 23:48:40.943846\tepoch: 64\tcount: 100\tlogloss: 1.73702238338323e-05\n2020-04-05 23:48:40.947083\tepoch: 65\tcount: 100\tlogloss: 1.648947660494673e-05\n2020-04-05 23:48:40.953542\tepoch: 66\tcount: 100\tlogloss: 1.565970566014517e-05\n2020-04-05 23:48:40.957643\tepoch: 67\tcount: 100\tlogloss: 1.4877556775950345e-05\n2020-04-05 23:48:40.960567\tepoch: 68\tcount: 100\tlogloss: 1.4139925154077245e-05\n2020-04-05 23:48:40.963118\tepoch: 69\tcount: 100\tlogloss: 1.3443934611601681e-05\n2020-04-05 23:48:40.965505\tepoch: 70\tcount: 100\tlogloss: 1.2786918703709333e-05\n2020-04-05 23:48:40.971487\tepoch: 71\tcount: 100\tlogloss: 1.2166403580860717e-05\n2020-04-05 23:48:40.977053\tepoch: 72\tcount: 100\tlogloss: 1.1580092404438784e-05\n2020-04-05 23:48:40.981332\tepoch: 73\tcount: 100\tlogloss: 1.1025851164544408e-05\n2020-04-05 23:48:40.989012\tepoch: 74\tcount: 100\tlogloss: 1.0501695760723108e-05\n2020-04-05 23:48:40.993808\tepoch: 75\tcount: 100\tlogloss: 1.0005780221602888e-05\n2020-04-05 23:48:40.998880\tepoch: 76\tcount: 100\tlogloss: 9.536385952694046e-06\n2020-04-05 23:48:41.008150\tepoch: 77\tcount: 100\tlogloss: 9.091911913437296e-06\n2020-04-05 23:48:41.011653\tepoch: 78\tcount: 100\tlogloss: 8.670865635000808e-06\n2020-04-05 23:48:41.015406\tepoch: 79\tcount: 100\tlogloss: 8.271854999493862e-06\n2020-04-05 23:48:41.019334\tepoch: 80\tcount: 100\tlogloss: 7.893580709546183e-06\n2020-04-05 23:48:41.023242\tepoch: 81\tcount: 100\tlogloss: 7.534829384350534e-06\n2020-04-05 23:48:41.027533\tepoch: 82\tcount: 100\tlogloss: 7.194467224843255e-06\n2020-04-05 23:48:41.031085\tepoch: 83\tcount: 100\tlogloss: 6.8714341963313355e-06\n2020-04-05 23:48:41.035752\tepoch: 84\tcount: 100\tlogloss: 6.564738682084039e-06\n2020-04-05 23:48:41.038429\tepoch: 85\tcount: 100\tlogloss: 6.273452565930364e-06\n2020-04-05 23:48:41.040533\tepoch: 86\tcount: 100\tlogloss: 5.99670670600293e-06\n2020-04-05 23:48:41.042622\tepoch: 87\tcount: 100\tlogloss: 5.7336867654139924e-06\n2020-04-05 23:48:41.044670\tepoch: 88\tcount: 100\tlogloss: 5.483629368932813e-06\n2020-04-05 23:48:41.046950\tepoch: 89\tcount: 100\tlogloss: 5.245818557639306e-06\n2020-04-05 23:48:41.048915\tepoch: 90\tcount: 100\tlogloss: 5.019582516166595e-06\n2020-04-05 23:48:41.053632\tepoch: 91\tcount: 100\tlogloss: 4.804290549529311e-06\n2020-04-05 23:48:41.058772\tepoch: 92\tcount: 100\tlogloss: 4.599350288620349e-06\n2020-04-05 23:48:41.062435\tepoch: 93\tcount: 100\tlogloss: 4.404205105400428e-06\n2020-04-05 23:48:41.065916\tepoch: 94\tcount: 100\tlogloss: 4.218331720476106e-06\n2020-04-05 23:48:41.071380\tepoch: 95\tcount: 100\tlogloss: 4.041237987423359e-06\n2020-04-05 23:48:41.074593\tepoch: 96\tcount: 100\tlogloss: 3.872460839437165e-06\n2020-04-05 23:48:41.076955\tepoch: 97\tcount: 100\tlogloss: 3.7115643853605265e-06\n2020-04-05 23:48:41.079136\tepoch: 98\tcount: 100\tlogloss: 3.558138143092055e-06\n2020-04-05 23:48:41.081504\tepoch: 99\tcount: 100\tlogloss: 3.411795399580518e-06\n"
    }
   ],
   "source": [
    "feature_size = 3\n",
    "model_ftrl = FtrlProximal(feature_size=feature_size, bias=True, alpha=ALPHA, beta=BETA, l1=L1, l2=L2)\n",
    "model_ftrl.fit_generator(TRAIN_X_PATH, TRAIN_Y_PATH, EPOCH_SIZE)"
   ]
  },
  {
   "cell_type": "code",
   "execution_count": 30,
   "metadata": {},
   "outputs": [
    {
     "output_type": "stream",
     "name": "stdout",
     "text": "{0: -0.7530029645172854, 1: -0.7947096106174495, 2: -0.7562993519174802, 3: -0.8243614392743873}\n"
    }
   ],
   "source": [
    "print(model_ftrl.w)"
   ]
  },
  {
   "cell_type": "markdown",
   "metadata": {},
   "source": [
    "# Evaluation"
   ],
   "execution_count": null,
   "outputs": []
  },
  {
   "cell_type": "code",
   "execution_count": 49,
   "metadata": {},
   "outputs": [
    {
     "output_type": "stream",
     "name": "stdout",
     "text": "{0: -0.7530029645172854, 1: -0.7947096106174495, 2: -0.7562993519174802, 3: -0.8243614392743873}\n{0: -0.7530029645172854, 1: -0.7947096106174495, 2: -0.7562993519174802, 3: -0.8243614392743873}\n"
    }
   ],
   "source": [
    "preds_logit = model_logit.predict(X_test, 0.5)\n",
    "scores_ftrl = model_ftrl.predict_proba_generator(TEST_X_PATH, TEST_Y_PATH)\n",
    "preds_ftrl = np.where(np.array(scores_ftrl) > 0.5, 1, 0)"
   ]
  },
  {
   "cell_type": "code",
   "execution_count": 48,
   "metadata": {},
   "outputs": [
    {
     "output_type": "stream",
     "name": "stdout",
     "text": "Losistic Regression: 1.0\nFtrl: 0.34\n"
    }
   ],
   "source": [
    "accuracy_logit = eval_accuray(preds_logit, y_test)\n",
    "accuracy_ftrl = eval_accuray(preds_ftrl, y_test)\n",
    "print(\"Losistic Regression: {}\".format(accuracy_logit))\n",
    "print(\"Ftrl: {}\".format(accuracy_ftrl))"
   ]
  }
 ],
 "metadata": {
  "file_extension": ".py",
  "kernelspec": {
   "display_name": "Python 3",
   "language": "python",
   "name": "python3"
  },
  "language_info": {
   "codemirror_mode": {
    "name": "ipython",
    "version": 3
   },
   "file_extension": ".py",
   "mimetype": "text/x-python",
   "name": "python",
   "nbconvert_exporter": "python",
   "pygments_lexer": "ipython3",
   "version": "3.7.6-final"
  },
  "mimetype": "text/x-python",
  "name": "python",
  "npconvert_exporter": "python",
  "pygments_lexer": "ipython3",
  "version": 3
 },
 "nbformat": 4,
 "nbformat_minor": 4
}